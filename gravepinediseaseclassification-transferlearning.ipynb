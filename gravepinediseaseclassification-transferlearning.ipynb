{
 "cells": [
  {
   "cell_type": "markdown",
   "id": "44a931e5",
   "metadata": {
    "papermill": {
     "duration": 0.017987,
     "end_time": "2022-04-21T16:18:38.368353",
     "exception": false,
     "start_time": "2022-04-21T16:18:38.350366",
     "status": "completed"
    },
    "tags": []
   },
   "source": [
    "# Gravepine Disease Classification using Transfer Learning\n",
    "\n",
    "In this work, we are going to use the advantages of Transfer Learning in the classification of the gravepine disease from leaf photos.\n",
    "Since we have a relatively small dataset (almost 800 photos and 4 classes) it is very important to use such a technique to reach good accuracy."
   ]
  },
  {
   "cell_type": "markdown",
   "id": "9b286380",
   "metadata": {
    "papermill": {
     "duration": 0.016523,
     "end_time": "2022-04-21T16:18:38.403450",
     "exception": false,
     "start_time": "2022-04-21T16:18:38.386927",
     "status": "completed"
    },
    "tags": []
   },
   "source": [
    "### Import all libraries"
   ]
  },
  {
   "cell_type": "code",
   "execution_count": 1,
   "id": "e2b415de",
   "metadata": {
    "_cell_guid": "b1076dfc-b9ad-4769-8c92-a6c4dae69d19",
    "_uuid": "8f2839f25d086af736a60e9eeb907d3b93b6e0e5",
    "execution": {
     "iopub.execute_input": "2022-04-21T16:18:38.440999Z",
     "iopub.status.busy": "2022-04-21T16:18:38.439934Z",
     "iopub.status.idle": "2022-04-21T16:18:43.794926Z",
     "shell.execute_reply": "2022-04-21T16:18:43.794283Z",
     "shell.execute_reply.started": "2022-04-21T15:25:12.215935Z"
    },
    "papermill": {
     "duration": 5.375123,
     "end_time": "2022-04-21T16:18:43.795100",
     "exception": false,
     "start_time": "2022-04-21T16:18:38.419977",
     "status": "completed"
    },
    "tags": []
   },
   "outputs": [],
   "source": [
    "import numpy as np\n",
    "import matplotlib.pyplot as plt\n",
    "import cv2\n",
    "from os import listdir\n",
    "import tensorflow as tf"
   ]
  },
  {
   "cell_type": "markdown",
   "id": "b54c801b",
   "metadata": {
    "papermill": {
     "duration": 0.016367,
     "end_time": "2022-04-21T16:18:43.829061",
     "exception": false,
     "start_time": "2022-04-21T16:18:43.812694",
     "status": "completed"
    },
    "tags": []
   },
   "source": [
    "### Setting some params\n",
    "\n",
    "We have 256x256 pixel photos, but the model that we are going to use require 160x160x3 (RGB) tensors.\n",
    "We also choose 5 epochs and a learning rate equal to 1e-4.\n"
   ]
  },
  {
   "cell_type": "code",
   "execution_count": 2,
   "id": "88762577",
   "metadata": {
    "execution": {
     "iopub.execute_input": "2022-04-21T16:18:43.867554Z",
     "iopub.status.busy": "2022-04-21T16:18:43.866805Z",
     "iopub.status.idle": "2022-04-21T16:18:43.869639Z",
     "shell.execute_reply": "2022-04-21T16:18:43.869071Z",
     "shell.execute_reply.started": "2022-04-21T15:25:12.222613Z"
    },
    "papermill": {
     "duration": 0.024297,
     "end_time": "2022-04-21T16:18:43.869786",
     "exception": false,
     "start_time": "2022-04-21T16:18:43.845489",
     "status": "completed"
    },
    "tags": []
   },
   "outputs": [],
   "source": [
    "PATH=\"../input/plantvillage-grape/Grape/\"\n",
    "\n",
    "BATCH_SIZE = 64\n",
    "IMG_SIZE = (160, 160)\n",
    "EPOCHS = 5\n",
    "INIT_LR =1e-4"
   ]
  },
  {
   "cell_type": "markdown",
   "id": "41e9d9e5",
   "metadata": {
    "papermill": {
     "duration": 0.016126,
     "end_time": "2022-04-21T16:18:43.902716",
     "exception": false,
     "start_time": "2022-04-21T16:18:43.886590",
     "status": "completed"
    },
    "tags": []
   },
   "source": [
    "## Load the data\n",
    "\n",
    "To load the data we use the Keras Data Generator, with a rescale of the pixel values and a train-validation split of .8/.2\n",
    "\n",
    "Use class_mode = categorical beacuse we have to use a categorical cross entropy as a loss in the final fully conected part of the network. (The part that makes the classification)\n",
    "This is used essentially to represent each class as a one hot vector."
   ]
  },
  {
   "cell_type": "code",
   "execution_count": 3,
   "id": "b7ea619a",
   "metadata": {
    "execution": {
     "iopub.execute_input": "2022-04-21T16:18:43.942530Z",
     "iopub.status.busy": "2022-04-21T16:18:43.941615Z",
     "iopub.status.idle": "2022-04-21T16:18:46.699964Z",
     "shell.execute_reply": "2022-04-21T16:18:46.700655Z",
     "shell.execute_reply.started": "2022-04-21T15:25:12.234402Z"
    },
    "papermill": {
     "duration": 2.781423,
     "end_time": "2022-04-21T16:18:46.700920",
     "exception": false,
     "start_time": "2022-04-21T16:18:43.919497",
     "status": "completed"
    },
    "tags": []
   },
   "outputs": [
    {
     "name": "stdout",
     "output_type": "stream",
     "text": [
      "Found 3251 images belonging to 4 classes.\n",
      "Found 811 images belonging to 4 classes.\n"
     ]
    }
   ],
   "source": [
    "image_generator = tf.keras.preprocessing.image.ImageDataGenerator(rescale=1/255, validation_split=0.2)    \n",
    "\n",
    "train_ds = image_generator.flow_from_directory(batch_size=BATCH_SIZE,\n",
    "                                                 directory=PATH,\n",
    "                                                 shuffle=True,\n",
    "                                                 target_size=IMG_SIZE, \n",
    "                                                 subset=\"training\",\n",
    "                                                 class_mode='categorical')\n",
    "\n",
    "val_ds = image_generator.flow_from_directory(batch_size=BATCH_SIZE,\n",
    "                                                 directory=PATH,\n",
    "                                                 shuffle=True,\n",
    "                                                 target_size=IMG_SIZE, \n",
    "                                                 subset=\"validation\",\n",
    "                                                 class_mode='categorical')\n",
    "\n"
   ]
  },
  {
   "cell_type": "markdown",
   "id": "1692745a",
   "metadata": {
    "papermill": {
     "duration": 0.016657,
     "end_time": "2022-04-21T16:18:46.736152",
     "exception": false,
     "start_time": "2022-04-21T16:18:46.719495",
     "status": "completed"
    },
    "tags": []
   },
   "source": [
    "### Rescale pixel values\n",
    "\n",
    "In a moment, we will download `tf.keras.applications.MobileNetV2` for use as the base model. This model expects pixel values in `[-1, 1]`, but at this point, the pixel values in your images are in `[0, 1]`. To rescale them, use the preprocessing method included with the model.preprocess_input = tf.keras.applications.mobilenet_v2.preprocess_inputCreate a simple connvolutional model in tensorflow and then train it"
   ]
  },
  {
   "cell_type": "code",
   "execution_count": 4,
   "id": "f5afce69",
   "metadata": {
    "execution": {
     "iopub.execute_input": "2022-04-21T16:18:46.774331Z",
     "iopub.status.busy": "2022-04-21T16:18:46.773718Z",
     "iopub.status.idle": "2022-04-21T16:18:46.776067Z",
     "shell.execute_reply": "2022-04-21T16:18:46.775610Z",
     "shell.execute_reply.started": "2022-04-21T15:25:12.975851Z"
    },
    "papermill": {
     "duration": 0.02331,
     "end_time": "2022-04-21T16:18:46.776203",
     "exception": false,
     "start_time": "2022-04-21T16:18:46.752893",
     "status": "completed"
    },
    "tags": []
   },
   "outputs": [],
   "source": [
    "preprocess_input = tf.keras.applications.mobilenet_v2.preprocess_input"
   ]
  },
  {
   "cell_type": "markdown",
   "id": "47118374",
   "metadata": {
    "papermill": {
     "duration": 0.018131,
     "end_time": "2022-04-21T16:18:46.811241",
     "exception": false,
     "start_time": "2022-04-21T16:18:46.793110",
     "status": "completed"
    },
    "tags": []
   },
   "source": [
    "## Create the base model from the pre-trained convnets\n",
    "We will create the base model from the **MobileNet V2** model developed at Google. This is pre-trained on the ImageNet dataset, a large dataset consisting of 1.4M images and 1000 classes. ImageNet is a research training dataset with a wide variety of categories like `jackfruit` and `syringe`. This base of knowledge will help us classify cats and dogs from our specific dataset.\n",
    "\n",
    "First, we need to pick which layer of MobileNet V2 we will use for **feature extraction**. The very last classification layer (on \"top\", as most diagrams of machine learning models go from bottom to top) is not very useful. Instead, we will follow the common practice to depend on the very last layer before the flatten operation. This layer is called the \"bottleneck layer\". The bottleneck layer features retain more generality as compared to the final/top layer.\n",
    "\n",
    "First, we instantiate a MobileNet V2 model pre-loaded with weights trained on ImageNet. By specifying the **include_top=False** argument, we load a network that doesn't include the classification layers at the top, which is ideal for feature extraction."
   ]
  },
  {
   "cell_type": "code",
   "execution_count": 5,
   "id": "c289fdd9",
   "metadata": {
    "execution": {
     "iopub.execute_input": "2022-04-21T16:18:46.848187Z",
     "iopub.status.busy": "2022-04-21T16:18:46.847599Z",
     "iopub.status.idle": "2022-04-21T16:18:48.331851Z",
     "shell.execute_reply": "2022-04-21T16:18:48.331234Z",
     "shell.execute_reply.started": "2022-04-21T15:25:12.981825Z"
    },
    "papermill": {
     "duration": 1.503848,
     "end_time": "2022-04-21T16:18:48.331997",
     "exception": false,
     "start_time": "2022-04-21T16:18:46.828149",
     "status": "completed"
    },
    "tags": []
   },
   "outputs": [
    {
     "name": "stderr",
     "output_type": "stream",
     "text": [
      "2022-04-21 16:18:46.899412: I tensorflow/core/common_runtime/process_util.cc:146] Creating new thread pool with default inter op setting: 2. Tune using inter_op_parallelism_threads for best performance.\n"
     ]
    },
    {
     "name": "stdout",
     "output_type": "stream",
     "text": [
      "Downloading data from https://storage.googleapis.com/tensorflow/keras-applications/mobilenet_v2/mobilenet_v2_weights_tf_dim_ordering_tf_kernels_1.0_160_no_top.h5\n",
      "9412608/9406464 [==============================] - 0s 0us/step\n",
      "9420800/9406464 [==============================] - 0s 0us/step\n"
     ]
    }
   ],
   "source": [
    "# Create the base model from the pre-trained model MobileNet V2\n",
    "IMG_SHAPE = IMG_SIZE + (3,) # R,G,B Channels\n",
    "base_model = tf.keras.applications.MobileNetV2(input_shape=IMG_SHAPE,\n",
    "                                               include_top=False,\n",
    "                                               weights='imagenet')"
   ]
  },
  {
   "cell_type": "code",
   "execution_count": 6,
   "id": "9354dee9",
   "metadata": {
    "execution": {
     "iopub.execute_input": "2022-04-21T16:18:48.375334Z",
     "iopub.status.busy": "2022-04-21T16:18:48.374623Z",
     "iopub.status.idle": "2022-04-21T16:18:49.914080Z",
     "shell.execute_reply": "2022-04-21T16:18:49.913534Z",
     "shell.execute_reply.started": "2022-04-21T15:25:13.926165Z"
    },
    "papermill": {
     "duration": 1.563117,
     "end_time": "2022-04-21T16:18:49.914229",
     "exception": false,
     "start_time": "2022-04-21T16:18:48.351112",
     "status": "completed"
    },
    "tags": []
   },
   "outputs": [
    {
     "name": "stdout",
     "output_type": "stream",
     "text": [
      "(64, 5, 5, 1280)\n"
     ]
    }
   ],
   "source": [
    "image_batch, label_batch = next(iter(train_ds))\n",
    "feature_batch = base_model(image_batch)\n",
    "print(feature_batch.shape)"
   ]
  },
  {
   "cell_type": "markdown",
   "id": "ddf5b5fb",
   "metadata": {
    "papermill": {
     "duration": 0.019542,
     "end_time": "2022-04-21T16:18:49.954309",
     "exception": false,
     "start_time": "2022-04-21T16:18:49.934767",
     "status": "completed"
    },
    "tags": []
   },
   "source": [
    "## Create the entire network\n",
    "\n",
    "Our network consist of a base model of MobileNetV2 pre-trained on the Imagenet dataset, and a fully connected final part that will trained to make our 4-class classification.\n",
    "\n",
    "We freeze the MobileNet layers and train only the fully connected final layers. It's important to use a softmax activation function in final layer and a categorical cross entropy, since we are going to do a multi-class classification.\n",
    "\n",
    "Mobilenet is a family of neural network that use Depthwise separable convolution, so are faster wrt the other deep architecture, and particular suitable for embedded applications.\n"
   ]
  },
  {
   "cell_type": "code",
   "execution_count": 7,
   "id": "82371c63",
   "metadata": {
    "execution": {
     "iopub.execute_input": "2022-04-21T16:18:50.011865Z",
     "iopub.status.busy": "2022-04-21T16:18:50.010887Z",
     "iopub.status.idle": "2022-04-21T16:18:50.182286Z",
     "shell.execute_reply": "2022-04-21T16:18:50.183158Z",
     "shell.execute_reply.started": "2022-04-21T15:25:14.141820Z"
    },
    "papermill": {
     "duration": 0.199701,
     "end_time": "2022-04-21T16:18:50.183400",
     "exception": false,
     "start_time": "2022-04-21T16:18:49.983699",
     "status": "completed"
    },
    "tags": []
   },
   "outputs": [
    {
     "name": "stdout",
     "output_type": "stream",
     "text": [
      "Model: \"model\"\n",
      "__________________________________________________________________________________________________\n",
      "Layer (type)                    Output Shape         Param #     Connected to                     \n",
      "==================================================================================================\n",
      "input_1 (InputLayer)            [(None, 160, 160, 3) 0                                            \n",
      "__________________________________________________________________________________________________\n",
      "Conv1 (Conv2D)                  (None, 80, 80, 32)   864         input_1[0][0]                    \n",
      "__________________________________________________________________________________________________\n",
      "bn_Conv1 (BatchNormalization)   (None, 80, 80, 32)   128         Conv1[0][0]                      \n",
      "__________________________________________________________________________________________________\n",
      "Conv1_relu (ReLU)               (None, 80, 80, 32)   0           bn_Conv1[0][0]                   \n",
      "__________________________________________________________________________________________________\n",
      "expanded_conv_depthwise (Depthw (None, 80, 80, 32)   288         Conv1_relu[0][0]                 \n",
      "__________________________________________________________________________________________________\n",
      "expanded_conv_depthwise_BN (Bat (None, 80, 80, 32)   128         expanded_conv_depthwise[0][0]    \n",
      "__________________________________________________________________________________________________\n",
      "expanded_conv_depthwise_relu (R (None, 80, 80, 32)   0           expanded_conv_depthwise_BN[0][0] \n",
      "__________________________________________________________________________________________________\n",
      "expanded_conv_project (Conv2D)  (None, 80, 80, 16)   512         expanded_conv_depthwise_relu[0][0\n",
      "__________________________________________________________________________________________________\n",
      "expanded_conv_project_BN (Batch (None, 80, 80, 16)   64          expanded_conv_project[0][0]      \n",
      "__________________________________________________________________________________________________\n",
      "block_1_expand (Conv2D)         (None, 80, 80, 96)   1536        expanded_conv_project_BN[0][0]   \n",
      "__________________________________________________________________________________________________\n",
      "block_1_expand_BN (BatchNormali (None, 80, 80, 96)   384         block_1_expand[0][0]             \n",
      "__________________________________________________________________________________________________\n",
      "block_1_expand_relu (ReLU)      (None, 80, 80, 96)   0           block_1_expand_BN[0][0]          \n",
      "__________________________________________________________________________________________________\n",
      "block_1_pad (ZeroPadding2D)     (None, 81, 81, 96)   0           block_1_expand_relu[0][0]        \n",
      "__________________________________________________________________________________________________\n",
      "block_1_depthwise (DepthwiseCon (None, 40, 40, 96)   864         block_1_pad[0][0]                \n",
      "__________________________________________________________________________________________________\n",
      "block_1_depthwise_BN (BatchNorm (None, 40, 40, 96)   384         block_1_depthwise[0][0]          \n",
      "__________________________________________________________________________________________________\n",
      "block_1_depthwise_relu (ReLU)   (None, 40, 40, 96)   0           block_1_depthwise_BN[0][0]       \n",
      "__________________________________________________________________________________________________\n",
      "block_1_project (Conv2D)        (None, 40, 40, 24)   2304        block_1_depthwise_relu[0][0]     \n",
      "__________________________________________________________________________________________________\n",
      "block_1_project_BN (BatchNormal (None, 40, 40, 24)   96          block_1_project[0][0]            \n",
      "__________________________________________________________________________________________________\n",
      "block_2_expand (Conv2D)         (None, 40, 40, 144)  3456        block_1_project_BN[0][0]         \n",
      "__________________________________________________________________________________________________\n",
      "block_2_expand_BN (BatchNormali (None, 40, 40, 144)  576         block_2_expand[0][0]             \n",
      "__________________________________________________________________________________________________\n",
      "block_2_expand_relu (ReLU)      (None, 40, 40, 144)  0           block_2_expand_BN[0][0]          \n",
      "__________________________________________________________________________________________________\n",
      "block_2_depthwise (DepthwiseCon (None, 40, 40, 144)  1296        block_2_expand_relu[0][0]        \n",
      "__________________________________________________________________________________________________\n",
      "block_2_depthwise_BN (BatchNorm (None, 40, 40, 144)  576         block_2_depthwise[0][0]          \n",
      "__________________________________________________________________________________________________\n",
      "block_2_depthwise_relu (ReLU)   (None, 40, 40, 144)  0           block_2_depthwise_BN[0][0]       \n",
      "__________________________________________________________________________________________________\n",
      "block_2_project (Conv2D)        (None, 40, 40, 24)   3456        block_2_depthwise_relu[0][0]     \n",
      "__________________________________________________________________________________________________\n",
      "block_2_project_BN (BatchNormal (None, 40, 40, 24)   96          block_2_project[0][0]            \n",
      "__________________________________________________________________________________________________\n",
      "block_2_add (Add)               (None, 40, 40, 24)   0           block_1_project_BN[0][0]         \n",
      "                                                                 block_2_project_BN[0][0]         \n",
      "__________________________________________________________________________________________________\n",
      "block_3_expand (Conv2D)         (None, 40, 40, 144)  3456        block_2_add[0][0]                \n",
      "__________________________________________________________________________________________________\n",
      "block_3_expand_BN (BatchNormali (None, 40, 40, 144)  576         block_3_expand[0][0]             \n",
      "__________________________________________________________________________________________________\n",
      "block_3_expand_relu (ReLU)      (None, 40, 40, 144)  0           block_3_expand_BN[0][0]          \n",
      "__________________________________________________________________________________________________\n",
      "block_3_pad (ZeroPadding2D)     (None, 41, 41, 144)  0           block_3_expand_relu[0][0]        \n",
      "__________________________________________________________________________________________________\n",
      "block_3_depthwise (DepthwiseCon (None, 20, 20, 144)  1296        block_3_pad[0][0]                \n",
      "__________________________________________________________________________________________________\n",
      "block_3_depthwise_BN (BatchNorm (None, 20, 20, 144)  576         block_3_depthwise[0][0]          \n",
      "__________________________________________________________________________________________________\n",
      "block_3_depthwise_relu (ReLU)   (None, 20, 20, 144)  0           block_3_depthwise_BN[0][0]       \n",
      "__________________________________________________________________________________________________\n",
      "block_3_project (Conv2D)        (None, 20, 20, 32)   4608        block_3_depthwise_relu[0][0]     \n",
      "__________________________________________________________________________________________________\n",
      "block_3_project_BN (BatchNormal (None, 20, 20, 32)   128         block_3_project[0][0]            \n",
      "__________________________________________________________________________________________________\n",
      "block_4_expand (Conv2D)         (None, 20, 20, 192)  6144        block_3_project_BN[0][0]         \n",
      "__________________________________________________________________________________________________\n",
      "block_4_expand_BN (BatchNormali (None, 20, 20, 192)  768         block_4_expand[0][0]             \n",
      "__________________________________________________________________________________________________\n",
      "block_4_expand_relu (ReLU)      (None, 20, 20, 192)  0           block_4_expand_BN[0][0]          \n",
      "__________________________________________________________________________________________________\n",
      "block_4_depthwise (DepthwiseCon (None, 20, 20, 192)  1728        block_4_expand_relu[0][0]        \n",
      "__________________________________________________________________________________________________\n",
      "block_4_depthwise_BN (BatchNorm (None, 20, 20, 192)  768         block_4_depthwise[0][0]          \n",
      "__________________________________________________________________________________________________\n",
      "block_4_depthwise_relu (ReLU)   (None, 20, 20, 192)  0           block_4_depthwise_BN[0][0]       \n",
      "__________________________________________________________________________________________________\n",
      "block_4_project (Conv2D)        (None, 20, 20, 32)   6144        block_4_depthwise_relu[0][0]     \n",
      "__________________________________________________________________________________________________\n",
      "block_4_project_BN (BatchNormal (None, 20, 20, 32)   128         block_4_project[0][0]            \n",
      "__________________________________________________________________________________________________\n",
      "block_4_add (Add)               (None, 20, 20, 32)   0           block_3_project_BN[0][0]         \n",
      "                                                                 block_4_project_BN[0][0]         \n",
      "__________________________________________________________________________________________________\n",
      "block_5_expand (Conv2D)         (None, 20, 20, 192)  6144        block_4_add[0][0]                \n",
      "__________________________________________________________________________________________________\n",
      "block_5_expand_BN (BatchNormali (None, 20, 20, 192)  768         block_5_expand[0][0]             \n",
      "__________________________________________________________________________________________________\n",
      "block_5_expand_relu (ReLU)      (None, 20, 20, 192)  0           block_5_expand_BN[0][0]          \n",
      "__________________________________________________________________________________________________\n",
      "block_5_depthwise (DepthwiseCon (None, 20, 20, 192)  1728        block_5_expand_relu[0][0]        \n",
      "__________________________________________________________________________________________________\n",
      "block_5_depthwise_BN (BatchNorm (None, 20, 20, 192)  768         block_5_depthwise[0][0]          \n",
      "__________________________________________________________________________________________________\n",
      "block_5_depthwise_relu (ReLU)   (None, 20, 20, 192)  0           block_5_depthwise_BN[0][0]       \n",
      "__________________________________________________________________________________________________\n",
      "block_5_project (Conv2D)        (None, 20, 20, 32)   6144        block_5_depthwise_relu[0][0]     \n",
      "__________________________________________________________________________________________________\n",
      "block_5_project_BN (BatchNormal (None, 20, 20, 32)   128         block_5_project[0][0]            \n",
      "__________________________________________________________________________________________________\n",
      "block_5_add (Add)               (None, 20, 20, 32)   0           block_4_add[0][0]                \n",
      "                                                                 block_5_project_BN[0][0]         \n",
      "__________________________________________________________________________________________________\n",
      "block_6_expand (Conv2D)         (None, 20, 20, 192)  6144        block_5_add[0][0]                \n",
      "__________________________________________________________________________________________________\n",
      "block_6_expand_BN (BatchNormali (None, 20, 20, 192)  768         block_6_expand[0][0]             \n",
      "__________________________________________________________________________________________________\n",
      "block_6_expand_relu (ReLU)      (None, 20, 20, 192)  0           block_6_expand_BN[0][0]          \n",
      "__________________________________________________________________________________________________\n",
      "block_6_pad (ZeroPadding2D)     (None, 21, 21, 192)  0           block_6_expand_relu[0][0]        \n",
      "__________________________________________________________________________________________________\n",
      "block_6_depthwise (DepthwiseCon (None, 10, 10, 192)  1728        block_6_pad[0][0]                \n",
      "__________________________________________________________________________________________________\n",
      "block_6_depthwise_BN (BatchNorm (None, 10, 10, 192)  768         block_6_depthwise[0][0]          \n",
      "__________________________________________________________________________________________________\n",
      "block_6_depthwise_relu (ReLU)   (None, 10, 10, 192)  0           block_6_depthwise_BN[0][0]       \n",
      "__________________________________________________________________________________________________\n",
      "block_6_project (Conv2D)        (None, 10, 10, 64)   12288       block_6_depthwise_relu[0][0]     \n",
      "__________________________________________________________________________________________________\n",
      "block_6_project_BN (BatchNormal (None, 10, 10, 64)   256         block_6_project[0][0]            \n",
      "__________________________________________________________________________________________________\n",
      "block_7_expand (Conv2D)         (None, 10, 10, 384)  24576       block_6_project_BN[0][0]         \n",
      "__________________________________________________________________________________________________\n",
      "block_7_expand_BN (BatchNormali (None, 10, 10, 384)  1536        block_7_expand[0][0]             \n",
      "__________________________________________________________________________________________________\n",
      "block_7_expand_relu (ReLU)      (None, 10, 10, 384)  0           block_7_expand_BN[0][0]          \n",
      "__________________________________________________________________________________________________\n",
      "block_7_depthwise (DepthwiseCon (None, 10, 10, 384)  3456        block_7_expand_relu[0][0]        \n",
      "__________________________________________________________________________________________________\n",
      "block_7_depthwise_BN (BatchNorm (None, 10, 10, 384)  1536        block_7_depthwise[0][0]          \n",
      "__________________________________________________________________________________________________\n",
      "block_7_depthwise_relu (ReLU)   (None, 10, 10, 384)  0           block_7_depthwise_BN[0][0]       \n",
      "__________________________________________________________________________________________________\n",
      "block_7_project (Conv2D)        (None, 10, 10, 64)   24576       block_7_depthwise_relu[0][0]     \n",
      "__________________________________________________________________________________________________\n",
      "block_7_project_BN (BatchNormal (None, 10, 10, 64)   256         block_7_project[0][0]            \n",
      "__________________________________________________________________________________________________\n",
      "block_7_add (Add)               (None, 10, 10, 64)   0           block_6_project_BN[0][0]         \n",
      "                                                                 block_7_project_BN[0][0]         \n",
      "__________________________________________________________________________________________________\n",
      "block_8_expand (Conv2D)         (None, 10, 10, 384)  24576       block_7_add[0][0]                \n",
      "__________________________________________________________________________________________________\n",
      "block_8_expand_BN (BatchNormali (None, 10, 10, 384)  1536        block_8_expand[0][0]             \n",
      "__________________________________________________________________________________________________\n",
      "block_8_expand_relu (ReLU)      (None, 10, 10, 384)  0           block_8_expand_BN[0][0]          \n",
      "__________________________________________________________________________________________________\n",
      "block_8_depthwise (DepthwiseCon (None, 10, 10, 384)  3456        block_8_expand_relu[0][0]        \n",
      "__________________________________________________________________________________________________\n",
      "block_8_depthwise_BN (BatchNorm (None, 10, 10, 384)  1536        block_8_depthwise[0][0]          \n",
      "__________________________________________________________________________________________________\n",
      "block_8_depthwise_relu (ReLU)   (None, 10, 10, 384)  0           block_8_depthwise_BN[0][0]       \n",
      "__________________________________________________________________________________________________\n",
      "block_8_project (Conv2D)        (None, 10, 10, 64)   24576       block_8_depthwise_relu[0][0]     \n",
      "__________________________________________________________________________________________________\n",
      "block_8_project_BN (BatchNormal (None, 10, 10, 64)   256         block_8_project[0][0]            \n",
      "__________________________________________________________________________________________________\n",
      "block_8_add (Add)               (None, 10, 10, 64)   0           block_7_add[0][0]                \n",
      "                                                                 block_8_project_BN[0][0]         \n",
      "__________________________________________________________________________________________________\n",
      "block_9_expand (Conv2D)         (None, 10, 10, 384)  24576       block_8_add[0][0]                \n",
      "__________________________________________________________________________________________________\n",
      "block_9_expand_BN (BatchNormali (None, 10, 10, 384)  1536        block_9_expand[0][0]             \n",
      "__________________________________________________________________________________________________\n",
      "block_9_expand_relu (ReLU)      (None, 10, 10, 384)  0           block_9_expand_BN[0][0]          \n",
      "__________________________________________________________________________________________________\n",
      "block_9_depthwise (DepthwiseCon (None, 10, 10, 384)  3456        block_9_expand_relu[0][0]        \n",
      "__________________________________________________________________________________________________\n",
      "block_9_depthwise_BN (BatchNorm (None, 10, 10, 384)  1536        block_9_depthwise[0][0]          \n",
      "__________________________________________________________________________________________________\n",
      "block_9_depthwise_relu (ReLU)   (None, 10, 10, 384)  0           block_9_depthwise_BN[0][0]       \n",
      "__________________________________________________________________________________________________\n",
      "block_9_project (Conv2D)        (None, 10, 10, 64)   24576       block_9_depthwise_relu[0][0]     \n",
      "__________________________________________________________________________________________________\n",
      "block_9_project_BN (BatchNormal (None, 10, 10, 64)   256         block_9_project[0][0]            \n",
      "__________________________________________________________________________________________________\n",
      "block_9_add (Add)               (None, 10, 10, 64)   0           block_8_add[0][0]                \n",
      "                                                                 block_9_project_BN[0][0]         \n",
      "__________________________________________________________________________________________________\n",
      "block_10_expand (Conv2D)        (None, 10, 10, 384)  24576       block_9_add[0][0]                \n",
      "__________________________________________________________________________________________________\n",
      "block_10_expand_BN (BatchNormal (None, 10, 10, 384)  1536        block_10_expand[0][0]            \n",
      "__________________________________________________________________________________________________\n",
      "block_10_expand_relu (ReLU)     (None, 10, 10, 384)  0           block_10_expand_BN[0][0]         \n",
      "__________________________________________________________________________________________________\n",
      "block_10_depthwise (DepthwiseCo (None, 10, 10, 384)  3456        block_10_expand_relu[0][0]       \n",
      "__________________________________________________________________________________________________\n",
      "block_10_depthwise_BN (BatchNor (None, 10, 10, 384)  1536        block_10_depthwise[0][0]         \n",
      "__________________________________________________________________________________________________\n",
      "block_10_depthwise_relu (ReLU)  (None, 10, 10, 384)  0           block_10_depthwise_BN[0][0]      \n",
      "__________________________________________________________________________________________________\n",
      "block_10_project (Conv2D)       (None, 10, 10, 96)   36864       block_10_depthwise_relu[0][0]    \n",
      "__________________________________________________________________________________________________\n",
      "block_10_project_BN (BatchNorma (None, 10, 10, 96)   384         block_10_project[0][0]           \n",
      "__________________________________________________________________________________________________\n",
      "block_11_expand (Conv2D)        (None, 10, 10, 576)  55296       block_10_project_BN[0][0]        \n",
      "__________________________________________________________________________________________________\n",
      "block_11_expand_BN (BatchNormal (None, 10, 10, 576)  2304        block_11_expand[0][0]            \n",
      "__________________________________________________________________________________________________\n",
      "block_11_expand_relu (ReLU)     (None, 10, 10, 576)  0           block_11_expand_BN[0][0]         \n",
      "__________________________________________________________________________________________________\n",
      "block_11_depthwise (DepthwiseCo (None, 10, 10, 576)  5184        block_11_expand_relu[0][0]       \n",
      "__________________________________________________________________________________________________\n",
      "block_11_depthwise_BN (BatchNor (None, 10, 10, 576)  2304        block_11_depthwise[0][0]         \n",
      "__________________________________________________________________________________________________\n",
      "block_11_depthwise_relu (ReLU)  (None, 10, 10, 576)  0           block_11_depthwise_BN[0][0]      \n",
      "__________________________________________________________________________________________________\n",
      "block_11_project (Conv2D)       (None, 10, 10, 96)   55296       block_11_depthwise_relu[0][0]    \n",
      "__________________________________________________________________________________________________\n",
      "block_11_project_BN (BatchNorma (None, 10, 10, 96)   384         block_11_project[0][0]           \n",
      "__________________________________________________________________________________________________\n",
      "block_11_add (Add)              (None, 10, 10, 96)   0           block_10_project_BN[0][0]        \n",
      "                                                                 block_11_project_BN[0][0]        \n",
      "__________________________________________________________________________________________________\n",
      "block_12_expand (Conv2D)        (None, 10, 10, 576)  55296       block_11_add[0][0]               \n",
      "__________________________________________________________________________________________________\n",
      "block_12_expand_BN (BatchNormal (None, 10, 10, 576)  2304        block_12_expand[0][0]            \n",
      "__________________________________________________________________________________________________\n",
      "block_12_expand_relu (ReLU)     (None, 10, 10, 576)  0           block_12_expand_BN[0][0]         \n",
      "__________________________________________________________________________________________________\n",
      "block_12_depthwise (DepthwiseCo (None, 10, 10, 576)  5184        block_12_expand_relu[0][0]       \n",
      "__________________________________________________________________________________________________\n",
      "block_12_depthwise_BN (BatchNor (None, 10, 10, 576)  2304        block_12_depthwise[0][0]         \n",
      "__________________________________________________________________________________________________\n",
      "block_12_depthwise_relu (ReLU)  (None, 10, 10, 576)  0           block_12_depthwise_BN[0][0]      \n",
      "__________________________________________________________________________________________________\n",
      "block_12_project (Conv2D)       (None, 10, 10, 96)   55296       block_12_depthwise_relu[0][0]    \n",
      "__________________________________________________________________________________________________\n",
      "block_12_project_BN (BatchNorma (None, 10, 10, 96)   384         block_12_project[0][0]           \n",
      "__________________________________________________________________________________________________\n",
      "block_12_add (Add)              (None, 10, 10, 96)   0           block_11_add[0][0]               \n",
      "                                                                 block_12_project_BN[0][0]        \n",
      "__________________________________________________________________________________________________\n",
      "block_13_expand (Conv2D)        (None, 10, 10, 576)  55296       block_12_add[0][0]               \n",
      "__________________________________________________________________________________________________\n",
      "block_13_expand_BN (BatchNormal (None, 10, 10, 576)  2304        block_13_expand[0][0]            \n",
      "__________________________________________________________________________________________________\n",
      "block_13_expand_relu (ReLU)     (None, 10, 10, 576)  0           block_13_expand_BN[0][0]         \n",
      "__________________________________________________________________________________________________\n",
      "block_13_pad (ZeroPadding2D)    (None, 11, 11, 576)  0           block_13_expand_relu[0][0]       \n",
      "__________________________________________________________________________________________________\n",
      "block_13_depthwise (DepthwiseCo (None, 5, 5, 576)    5184        block_13_pad[0][0]               \n",
      "__________________________________________________________________________________________________\n",
      "block_13_depthwise_BN (BatchNor (None, 5, 5, 576)    2304        block_13_depthwise[0][0]         \n",
      "__________________________________________________________________________________________________\n",
      "block_13_depthwise_relu (ReLU)  (None, 5, 5, 576)    0           block_13_depthwise_BN[0][0]      \n",
      "__________________________________________________________________________________________________\n",
      "block_13_project (Conv2D)       (None, 5, 5, 160)    92160       block_13_depthwise_relu[0][0]    \n",
      "__________________________________________________________________________________________________\n",
      "block_13_project_BN (BatchNorma (None, 5, 5, 160)    640         block_13_project[0][0]           \n",
      "__________________________________________________________________________________________________\n",
      "block_14_expand (Conv2D)        (None, 5, 5, 960)    153600      block_13_project_BN[0][0]        \n",
      "__________________________________________________________________________________________________\n",
      "block_14_expand_BN (BatchNormal (None, 5, 5, 960)    3840        block_14_expand[0][0]            \n",
      "__________________________________________________________________________________________________\n",
      "block_14_expand_relu (ReLU)     (None, 5, 5, 960)    0           block_14_expand_BN[0][0]         \n",
      "__________________________________________________________________________________________________\n",
      "block_14_depthwise (DepthwiseCo (None, 5, 5, 960)    8640        block_14_expand_relu[0][0]       \n",
      "__________________________________________________________________________________________________\n",
      "block_14_depthwise_BN (BatchNor (None, 5, 5, 960)    3840        block_14_depthwise[0][0]         \n",
      "__________________________________________________________________________________________________\n",
      "block_14_depthwise_relu (ReLU)  (None, 5, 5, 960)    0           block_14_depthwise_BN[0][0]      \n",
      "__________________________________________________________________________________________________\n",
      "block_14_project (Conv2D)       (None, 5, 5, 160)    153600      block_14_depthwise_relu[0][0]    \n",
      "__________________________________________________________________________________________________\n",
      "block_14_project_BN (BatchNorma (None, 5, 5, 160)    640         block_14_project[0][0]           \n",
      "__________________________________________________________________________________________________\n",
      "block_14_add (Add)              (None, 5, 5, 160)    0           block_13_project_BN[0][0]        \n",
      "                                                                 block_14_project_BN[0][0]        \n",
      "__________________________________________________________________________________________________\n",
      "block_15_expand (Conv2D)        (None, 5, 5, 960)    153600      block_14_add[0][0]               \n",
      "__________________________________________________________________________________________________\n",
      "block_15_expand_BN (BatchNormal (None, 5, 5, 960)    3840        block_15_expand[0][0]            \n",
      "__________________________________________________________________________________________________\n",
      "block_15_expand_relu (ReLU)     (None, 5, 5, 960)    0           block_15_expand_BN[0][0]         \n",
      "__________________________________________________________________________________________________\n",
      "block_15_depthwise (DepthwiseCo (None, 5, 5, 960)    8640        block_15_expand_relu[0][0]       \n",
      "__________________________________________________________________________________________________\n",
      "block_15_depthwise_BN (BatchNor (None, 5, 5, 960)    3840        block_15_depthwise[0][0]         \n",
      "__________________________________________________________________________________________________\n",
      "block_15_depthwise_relu (ReLU)  (None, 5, 5, 960)    0           block_15_depthwise_BN[0][0]      \n",
      "__________________________________________________________________________________________________\n",
      "block_15_project (Conv2D)       (None, 5, 5, 160)    153600      block_15_depthwise_relu[0][0]    \n",
      "__________________________________________________________________________________________________\n",
      "block_15_project_BN (BatchNorma (None, 5, 5, 160)    640         block_15_project[0][0]           \n",
      "__________________________________________________________________________________________________\n",
      "block_15_add (Add)              (None, 5, 5, 160)    0           block_14_add[0][0]               \n",
      "                                                                 block_15_project_BN[0][0]        \n",
      "__________________________________________________________________________________________________\n",
      "block_16_expand (Conv2D)        (None, 5, 5, 960)    153600      block_15_add[0][0]               \n",
      "__________________________________________________________________________________________________\n",
      "block_16_expand_BN (BatchNormal (None, 5, 5, 960)    3840        block_16_expand[0][0]            \n",
      "__________________________________________________________________________________________________\n",
      "block_16_expand_relu (ReLU)     (None, 5, 5, 960)    0           block_16_expand_BN[0][0]         \n",
      "__________________________________________________________________________________________________\n",
      "block_16_depthwise (DepthwiseCo (None, 5, 5, 960)    8640        block_16_expand_relu[0][0]       \n",
      "__________________________________________________________________________________________________\n",
      "block_16_depthwise_BN (BatchNor (None, 5, 5, 960)    3840        block_16_depthwise[0][0]         \n",
      "__________________________________________________________________________________________________\n",
      "block_16_depthwise_relu (ReLU)  (None, 5, 5, 960)    0           block_16_depthwise_BN[0][0]      \n",
      "__________________________________________________________________________________________________\n",
      "block_16_project (Conv2D)       (None, 5, 5, 320)    307200      block_16_depthwise_relu[0][0]    \n",
      "__________________________________________________________________________________________________\n",
      "block_16_project_BN (BatchNorma (None, 5, 5, 320)    1280        block_16_project[0][0]           \n",
      "__________________________________________________________________________________________________\n",
      "Conv_1 (Conv2D)                 (None, 5, 5, 1280)   409600      block_16_project_BN[0][0]        \n",
      "__________________________________________________________________________________________________\n",
      "Conv_1_bn (BatchNormalization)  (None, 5, 5, 1280)   5120        Conv_1[0][0]                     \n",
      "__________________________________________________________________________________________________\n",
      "out_relu (ReLU)                 (None, 5, 5, 1280)   0           Conv_1_bn[0][0]                  \n",
      "__________________________________________________________________________________________________\n",
      "global_average_pooling2d (Globa (None, 1280)         0           out_relu[0][0]                   \n",
      "__________________________________________________________________________________________________\n",
      "dense (Dense)                   (None, 512)          655872      global_average_pooling2d[0][0]   \n",
      "__________________________________________________________________________________________________\n",
      "dense_1 (Dense)                 (None, 512)          262656      dense[0][0]                      \n",
      "__________________________________________________________________________________________________\n",
      "dense_2 (Dense)                 (None, 4)            2052        dense_1[0][0]                    \n",
      "==================================================================================================\n",
      "Total params: 3,178,564\n",
      "Trainable params: 920,580\n",
      "Non-trainable params: 2,257,984\n",
      "__________________________________________________________________________________________________\n"
     ]
    }
   ],
   "source": [
    "# Add a global spatial average pooling layer\n",
    "out = base_model.output\n",
    "out = tf.keras.layers.GlobalAveragePooling2D()(out)\n",
    "out = tf.keras.layers.Dense(512, activation='relu')(out)\n",
    "out = tf.keras.layers.Dense(512, activation='relu')(out)\n",
    "predictions = tf.keras.layers.Dense(4, activation='softmax')(out)\n",
    "model = tf.keras.Model(inputs=base_model.input, outputs=predictions)\n",
    "\n",
    "# Freeze base layers and use theyas feature extractor trained ln imagenet\n",
    "for layer in base_model.layers:\n",
    "    layer.trainable = False\n",
    "    \n",
    "# Compile \n",
    "opt = tf.keras.optimizers.Adam(learning_rate=INIT_LR)\n",
    "model.compile(loss=\"categorical_crossentropy\", optimizer=opt,metrics=[\"accuracy\"]) \n",
    "model.summary()"
   ]
  },
  {
   "cell_type": "markdown",
   "id": "6244a339",
   "metadata": {
    "papermill": {
     "duration": 0.022323,
     "end_time": "2022-04-21T16:18:50.230754",
     "exception": false,
     "start_time": "2022-04-21T16:18:50.208431",
     "status": "completed"
    },
    "tags": []
   },
   "source": [
    "### Train the model\n",
    "\n",
    "First, see the initial loss and initial accuracy. Then we train the fully connected layers for 5 epochs."
   ]
  },
  {
   "cell_type": "code",
   "execution_count": 8,
   "id": "ee6cfdd6",
   "metadata": {
    "execution": {
     "iopub.execute_input": "2022-04-21T16:18:50.295890Z",
     "iopub.status.busy": "2022-04-21T16:18:50.295106Z",
     "iopub.status.idle": "2022-04-21T16:19:00.266905Z",
     "shell.execute_reply": "2022-04-21T16:19:00.267341Z",
     "shell.execute_reply.started": "2022-04-21T15:25:14.261952Z"
    },
    "papermill": {
     "duration": 10.007925,
     "end_time": "2022-04-21T16:19:00.267548",
     "exception": false,
     "start_time": "2022-04-21T16:18:50.259623",
     "status": "completed"
    },
    "tags": []
   },
   "outputs": [
    {
     "name": "stderr",
     "output_type": "stream",
     "text": [
      "2022-04-21 16:18:51.069829: I tensorflow/compiler/mlir/mlir_graph_optimization_pass.cc:185] None of the MLIR Optimization Passes are enabled (registered 2)\n"
     ]
    },
    {
     "name": "stdout",
     "output_type": "stream",
     "text": [
      "13/13 [==============================] - 9s 565ms/step - loss: 1.5985 - accuracy: 0.1319\n",
      "initial loss: 1.60\n",
      "initial accuracy: 0.13\n"
     ]
    }
   ],
   "source": [
    "loss0, accuracy0 = model.evaluate(val_ds)\n",
    "print(\"initial loss: {:.2f}\".format(loss0))\n",
    "print(\"initial accuracy: {:.2f}\".format(accuracy0))\n"
   ]
  },
  {
   "cell_type": "code",
   "execution_count": 9,
   "id": "e28dc199",
   "metadata": {
    "execution": {
     "iopub.execute_input": "2022-04-21T16:19:00.322918Z",
     "iopub.status.busy": "2022-04-21T16:19:00.322236Z",
     "iopub.status.idle": "2022-04-21T16:21:17.952172Z",
     "shell.execute_reply": "2022-04-21T16:21:17.951359Z",
     "shell.execute_reply.started": "2022-04-21T15:25:18.086175Z"
    },
    "papermill": {
     "duration": 137.65978,
     "end_time": "2022-04-21T16:21:17.952375",
     "exception": false,
     "start_time": "2022-04-21T16:19:00.292595",
     "status": "completed"
    },
    "tags": []
   },
   "outputs": [
    {
     "name": "stdout",
     "output_type": "stream",
     "text": [
      "Epoch 1/5\n",
      "51/51 [==============================] - 34s 609ms/step - loss: 0.4608 - accuracy: 0.8444 - val_loss: 0.1308 - val_accuracy: 0.9630\n",
      "Epoch 2/5\n",
      "51/51 [==============================] - 25s 496ms/step - loss: 0.1047 - accuracy: 0.9674 - val_loss: 0.0844 - val_accuracy: 0.9729\n",
      "Epoch 3/5\n",
      "51/51 [==============================] - 26s 501ms/step - loss: 0.0639 - accuracy: 0.9837 - val_loss: 0.0625 - val_accuracy: 0.9790\n",
      "Epoch 4/5\n",
      "51/51 [==============================] - 26s 506ms/step - loss: 0.0439 - accuracy: 0.9898 - val_loss: 0.0512 - val_accuracy: 0.9864\n",
      "Epoch 5/5\n",
      "51/51 [==============================] - 26s 508ms/step - loss: 0.0352 - accuracy: 0.9914 - val_loss: 0.0436 - val_accuracy: 0.9864\n"
     ]
    }
   ],
   "source": [
    "history = model.fit(train_ds,\n",
    "                    epochs=EPOCHS,\n",
    "                    validation_data=val_ds)"
   ]
  },
  {
   "cell_type": "markdown",
   "id": "c02a3efc",
   "metadata": {
    "papermill": {
     "duration": 0.094542,
     "end_time": "2022-04-21T16:21:18.143088",
     "exception": false,
     "start_time": "2022-04-21T16:21:18.048546",
     "status": "completed"
    },
    "tags": []
   },
   "source": [
    "### Plotting the training results"
   ]
  },
  {
   "cell_type": "code",
   "execution_count": 10,
   "id": "a693f93f",
   "metadata": {
    "execution": {
     "iopub.execute_input": "2022-04-21T16:21:18.336700Z",
     "iopub.status.busy": "2022-04-21T16:21:18.336109Z",
     "iopub.status.idle": "2022-04-21T16:21:18.697800Z",
     "shell.execute_reply": "2022-04-21T16:21:18.698246Z",
     "shell.execute_reply.started": "2022-04-21T15:26:05.967340Z"
    },
    "papermill": {
     "duration": 0.460606,
     "end_time": "2022-04-21T16:21:18.698410",
     "exception": false,
     "start_time": "2022-04-21T16:21:18.237804",
     "status": "completed"
    },
    "tags": []
   },
   "outputs": [
    {
     "data": {
      "image/png": "[encoded data removed]",
      "text/plain": [
       "<Figure size 576x576 with 2 Axes>"
      ]
     },
     "metadata": {
      "needs_background": "light"
     },
     "output_type": "display_data"
    }
   ],
   "source": [
    "acc = history.history['accuracy']\n",
    "val_acc = history.history['val_accuracy']\n",
    "\n",
    "loss = history.history['loss']\n",
    "val_loss = history.history['val_loss']\n",
    "\n",
    "plt.figure(figsize=(8, 8))\n",
    "plt.subplot(2, 1, 1)\n",
    "plt.plot(acc, label='Training Accuracy')\n",
    "plt.plot(val_acc, label='Validation Accuracy')\n",
    "plt.legend(loc='lower right')\n",
    "plt.ylabel('Accuracy')\n",
    "plt.ylim([min(plt.ylim()),1])\n",
    "plt.title('Training and Validation Accuracy')\n",
    "\n",
    "plt.subplot(2, 1, 2)\n",
    "plt.plot(loss, label='Training Loss')\n",
    "plt.plot(val_loss, label='Validation Loss')\n",
    "plt.legend(loc='upper right')\n",
    "plt.ylabel('Cross Entropy')\n",
    "plt.ylim([0,1.0])\n",
    "plt.title('Training and Validation Loss')\n",
    "plt.xlabel('epoch')\n",
    "plt.show()"
   ]
  },
  {
   "cell_type": "markdown",
   "id": "db0154ad",
   "metadata": {
    "papermill": {
     "duration": 0.096994,
     "end_time": "2022-04-21T16:21:18.892631",
     "exception": false,
     "start_time": "2022-04-21T16:21:18.795637",
     "status": "completed"
    },
    "tags": []
   },
   "source": [
    "## Fine tuning\n",
    "\n",
    "Unfreeze a subset of the base model and train with our data, in order to gain some points of accuracy."
   ]
  },
  {
   "cell_type": "code",
   "execution_count": 11,
   "id": "d603144f",
   "metadata": {
    "execution": {
     "iopub.execute_input": "2022-04-21T16:21:19.089985Z",
     "iopub.status.busy": "2022-04-21T16:21:19.089332Z",
     "iopub.status.idle": "2022-04-21T16:21:19.097179Z",
     "shell.execute_reply": "2022-04-21T16:21:19.097667Z",
     "shell.execute_reply.started": "2022-04-21T15:26:28.165031Z"
    },
    "papermill": {
     "duration": 0.10782,
     "end_time": "2022-04-21T16:21:19.097848",
     "exception": false,
     "start_time": "2022-04-21T16:21:18.990028",
     "status": "completed"
    },
    "tags": []
   },
   "outputs": [],
   "source": [
    "base_model.trainable = True"
   ]
  },
  {
   "cell_type": "code",
   "execution_count": 12,
   "id": "bd68128a",
   "metadata": {
    "execution": {
     "iopub.execute_input": "2022-04-21T16:21:19.293805Z",
     "iopub.status.busy": "2022-04-21T16:21:19.293181Z",
     "iopub.status.idle": "2022-04-21T16:21:19.301826Z",
     "shell.execute_reply": "2022-04-21T16:21:19.302337Z",
     "shell.execute_reply.started": "2022-04-21T15:26:31.297670Z"
    },
    "papermill": {
     "duration": 0.108397,
     "end_time": "2022-04-21T16:21:19.302504",
     "exception": false,
     "start_time": "2022-04-21T16:21:19.194107",
     "status": "completed"
    },
    "tags": []
   },
   "outputs": [
    {
     "name": "stdout",
     "output_type": "stream",
     "text": [
      "Number of layers in the base model:  154\n"
     ]
    }
   ],
   "source": [
    "# Let's take a look to see how many layers are in the base model\n",
    "print(\"Number of layers in the base model: \", len(base_model.layers))\n",
    "\n",
    "# Fine-tune from this layer onwards\n",
    "fine_tune_at = 100\n",
    "\n",
    "# Freeze all the layers before the `fine_tune_at` layer\n",
    "for layer in base_model.layers[:fine_tune_at]:\n",
    "  layer.trainable = False"
   ]
  },
  {
   "cell_type": "code",
   "execution_count": 13,
   "id": "16fedf5f",
   "metadata": {
    "execution": {
     "iopub.execute_input": "2022-04-21T16:21:19.500430Z",
     "iopub.status.busy": "2022-04-21T16:21:19.499878Z",
     "iopub.status.idle": "2022-04-21T16:23:55.397647Z",
     "shell.execute_reply": "2022-04-21T16:23:55.398281Z",
     "shell.execute_reply.started": "2022-04-21T15:27:02.850821Z"
    },
    "papermill": {
     "duration": 155.998392,
     "end_time": "2022-04-21T16:23:55.398503",
     "exception": false,
     "start_time": "2022-04-21T16:21:19.400111",
     "status": "completed"
    },
    "tags": []
   },
   "outputs": [
    {
     "name": "stdout",
     "output_type": "stream",
     "text": [
      "Epoch 5/10\n",
      "51/51 [==============================] - 26s 510ms/step - loss: 0.0256 - accuracy: 0.9948 - val_loss: 0.0473 - val_accuracy: 0.9840\n",
      "Epoch 6/10\n",
      "51/51 [==============================] - 26s 510ms/step - loss: 0.0230 - accuracy: 0.9945 - val_loss: 0.0363 - val_accuracy: 0.9889\n",
      "Epoch 7/10\n",
      "51/51 [==============================] - 25s 499ms/step - loss: 0.0193 - accuracy: 0.9951 - val_loss: 0.0322 - val_accuracy: 0.9901\n",
      "Epoch 8/10\n",
      "51/51 [==============================] - 26s 512ms/step - loss: 0.0111 - accuracy: 0.9988 - val_loss: 0.0295 - val_accuracy: 0.9914\n",
      "Epoch 9/10\n",
      "51/51 [==============================] - 26s 506ms/step - loss: 0.0087 - accuracy: 0.9997 - val_loss: 0.0322 - val_accuracy: 0.9901\n",
      "Epoch 10/10\n",
      "51/51 [==============================] - 26s 504ms/step - loss: 0.0072 - accuracy: 0.9994 - val_loss: 0.0275 - val_accuracy: 0.9889\n"
     ]
    }
   ],
   "source": [
    "fine_tune_epochs = 5\n",
    "total_epochs =  EPOCHS + fine_tune_epochs\n",
    "\n",
    "history_fine = model.fit(train_ds,\n",
    "                         epochs=total_epochs,\n",
    "                         initial_epoch=history.epoch[-1],\n",
    "                         validation_data=val_ds)"
   ]
  },
  {
   "cell_type": "code",
   "execution_count": 14,
   "id": "59616054",
   "metadata": {
    "execution": {
     "iopub.execute_input": "2022-04-21T16:23:55.797121Z",
     "iopub.status.busy": "2022-04-21T16:23:55.796439Z",
     "iopub.status.idle": "2022-04-21T16:23:55.798663Z",
     "shell.execute_reply": "2022-04-21T16:23:55.799242Z",
     "shell.execute_reply.started": "2022-04-21T15:28:03.921153Z"
    },
    "papermill": {
     "duration": 0.201739,
     "end_time": "2022-04-21T16:23:55.799415",
     "exception": false,
     "start_time": "2022-04-21T16:23:55.597676",
     "status": "completed"
    },
    "tags": []
   },
   "outputs": [],
   "source": [
    "acc += history_fine.history['accuracy']\n",
    "val_acc += history_fine.history['val_accuracy']\n",
    "\n",
    "loss += history_fine.history['loss']\n",
    "val_loss += history_fine.history['val_loss']"
   ]
  },
  {
   "cell_type": "markdown",
   "id": "b8cc7356",
   "metadata": {
    "papermill": {
     "duration": 0.183282,
     "end_time": "2022-04-21T16:23:56.169938",
     "exception": false,
     "start_time": "2022-04-21T16:23:55.986656",
     "status": "completed"
    },
    "tags": []
   },
   "source": [
    "### Plotting fine-tuning results"
   ]
  },
  {
   "cell_type": "code",
   "execution_count": 15,
   "id": "7a5ed5d9",
   "metadata": {
    "execution": {
     "iopub.execute_input": "2022-04-21T16:23:56.556597Z",
     "iopub.status.busy": "2022-04-21T16:23:56.555417Z",
     "iopub.status.idle": "2022-04-21T16:23:56.856648Z",
     "shell.execute_reply": "2022-04-21T16:23:56.856137Z",
     "shell.execute_reply.started": "2022-04-21T15:29:26.134081Z"
    },
    "papermill": {
     "duration": 0.504984,
     "end_time": "2022-04-21T16:23:56.856811",
     "exception": false,
     "start_time": "2022-04-21T16:23:56.351827",
     "status": "completed"
    },
    "tags": []
   },
   "outputs": [
    {
     "data": {
      "image/png": "[encoded data removed]",
      "text/plain": [
       "<Figure size 576x576 with 2 Axes>"
      ]
     },
     "metadata": {
      "needs_background": "light"
     },
     "output_type": "display_data"
    }
   ],
   "source": [
    "plt.figure(figsize=(8, 8))\n",
    "plt.subplot(2, 1, 1)\n",
    "plt.plot(acc, label='Training Accuracy')\n",
    "plt.plot(val_acc, label='Validation Accuracy')\n",
    "plt.ylim([0.8, 1])\n",
    "plt.plot([EPOCHS-1,EPOCHS-1],\n",
    "          plt.ylim(), label='Start Fine Tuning')\n",
    "plt.legend(loc='lower right')\n",
    "plt.title('Training and Validation Accuracy')\n",
    "\n",
    "plt.subplot(2, 1, 2)\n",
    "plt.plot(loss, label='Training Loss')\n",
    "plt.plot(val_loss, label='Validation Loss')\n",
    "plt.ylim([0, 1.0])\n",
    "plt.plot([EPOCHS-1,EPOCHS-1],\n",
    "         plt.ylim(), label='Start Fine Tuning')\n",
    "plt.legend(loc='upper right')\n",
    "plt.title('Training and Validation Loss')\n",
    "plt.xlabel('epoch')\n",
    "plt.show()"
   ]
  }
 ],
 "metadata": {
  "kernelspec": {
   "display_name": "Python 3",
   "language": "python",
   "name": "python3"
  },
  "language_info": {
   "codemirror_mode": {
    "name": "ipython",
    "version": 3
   },
   "file_extension": ".py",
   "mimetype": "text/x-python",
   "name": "python",
   "nbconvert_exporter": "python",
   "pygments_lexer": "ipython3",
   "version": "3.7.12"
  },
  "papermill": {
   "default_parameters": {},
   "duration": 330.744105,
   "end_time": "2022-04-21T16:24:00.421528",
   "environment_variables": {},
   "exception": null,
   "input_path": "__notebook__.ipynb",
   "output_path": "__notebook__.ipynb",
   "parameters": {},
   "start_time": "2022-04-21T16:18:29.677423",
   "version": "2.3.3"
  }
 },
 "nbformat": 4,
 "nbformat_minor": 5
}
